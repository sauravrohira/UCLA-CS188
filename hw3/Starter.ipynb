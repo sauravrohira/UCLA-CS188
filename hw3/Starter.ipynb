{
  "nbformat": 4,
  "nbformat_minor": 0,
  "metadata": {
    "coursera": {
      "course_slug": "convolutional-neural-networks",
      "graded_item_id": "OEpi5",
      "launcher_item_id": "jK9EQ"
    },
    "kernelspec": {
      "name": "python3",
      "display_name": "Python 3"
    },
    "language_info": {
      "codemirror_mode": {
        "name": "ipython",
        "version": 3
      },
      "file_extension": ".py",
      "mimetype": "text/x-python",
      "name": "python",
      "nbconvert_exporter": "python",
      "pygments_lexer": "ipython3",
      "version": "3.6.4"
    },
    "colab": {
      "name": "Starter.ipynb",
      "provenance": [],
      "collapsed_sections": []
    },
    "accelerator": "GPU"
  },
  "cells": [
    {
      "cell_type": "markdown",
      "metadata": {
        "id": "ci7JfrFM3k4I",
        "colab_type": "text"
      },
      "source": [
        "# Import the Required Dependencies \n"
      ]
    },
    {
      "cell_type": "code",
      "metadata": {
        "id": "6LD13_jJ3k4J",
        "colab_type": "code",
        "outputId": "1c076ded-22c7-4a4b-cc5f-c31b12577835",
        "colab": {
          "base_uri": "https://localhost:8080/",
          "height": 80
        }
      },
      "source": [
        "import numpy as np\n",
        "from keras import layers\n",
        "from keras.preprocessing.image import ImageDataGenerator\n",
        "from keras.layers import Input, Add, Dense, Activation, ZeroPadding2D, BatchNormalization, Flatten, Conv2D, AveragePooling2D, MaxPooling2D, GlobalMaxPooling2D,Dropout\n",
        "from keras.models import Model, load_model\n",
        "from keras.preprocessing import image\n",
        "from IPython.display import SVG\n",
        "from keras.utils.vis_utils import model_to_dot\n",
        "from keras.utils import plot_model\n",
        "from keras.initializers import glorot_uniform\n",
        "import scipy.misc\n",
        "from matplotlib.pyplot import imshow\n",
        "%matplotlib inline\n",
        "import tensorflow as tf\n",
        "import keras.backend as K\n",
        "from keras.utils import layer_utils\n",
        "from keras.utils.data_utils import get_file\n",
        "from keras.applications.imagenet_utils import preprocess_input\n",
        "import pydot\n",
        "import keras \n",
        "import matplotlib.pyplot as plt\n",
        "from keras.datasets import cifar10\n",
        "from keras.regularizers import l1\n",
        "import os\n",
        "import time\n",
        "from time import time\n",
        "\n",
        "def plot_learningCurve(history,num_epoch):\n",
        "  # Plot training & validation accuracy values\n",
        "  epoch_range = np.arange(1,num_epoch+1)\n",
        "  plt.plot(epoch_range, history.history['acc'])\n",
        "  plt.plot(epoch_range, history.history['val_acc'])\n",
        "  plt.title('Model accuracy')\n",
        "  plt.ylabel('Accuracy')\n",
        "  plt.xlabel('Epoch')\n",
        "  plt.legend(['Train', 'Val'], loc='upper left')\n",
        "  plt.show()\n",
        "\n",
        "  # Plot training & validation loss values\n",
        "  plt.plot(epoch_range, history.history['loss'])\n",
        "  plt.plot(epoch_range, history.history['val_loss'])\n",
        "  plt.title('Model loss')\n",
        "  plt.ylabel('Loss')\n",
        "  plt.xlabel('Epoch')\n",
        "  plt.legend(['Train', 'Val'], loc='upper left')\n",
        "  plt.show()\n",
        "\n",
        "save_dir='/model/resnet'"
      ],
      "execution_count": 0,
      "outputs": [
        {
          "output_type": "stream",
          "text": [
            "Using TensorFlow backend.\n"
          ],
          "name": "stderr"
        },
        {
          "output_type": "display_data",
          "data": {
            "text/html": [
              "<p style=\"color: red;\">\n",
              "The default version of TensorFlow in Colab will soon switch to TensorFlow 2.x.<br>\n",
              "We recommend you <a href=\"https://www.tensorflow.org/guide/migrate\" target=\"_blank\">upgrade</a> now \n",
              "or ensure your notebook will continue to use TensorFlow 1.x via the <code>%tensorflow_version 1.x</code> magic:\n",
              "<a href=\"https://colab.research.google.com/notebooks/tensorflow_version.ipynb\" target=\"_blank\">more info</a>.</p>\n"
            ],
            "text/plain": [
              "<IPython.core.display.HTML object>"
            ]
          },
          "metadata": {
            "tags": []
          }
        }
      ]
    },
    {
      "cell_type": "markdown",
      "metadata": {
        "id": "GaqVr_T03XrW",
        "colab_type": "text"
      },
      "source": [
        "## Note on Conv2D\n",
        "\n",
        "In order to implement the convolutional layers, we use the Keras implementation of Conv2D. However, in all cases, you are required to use a specific kernel initializer so that the results are predictable ( random initialization of convolutional kernel would result in unpredictable ).\n",
        "\n",
        "As such, please use the following Conv2D: \n",
        "\n",
        "Conv2D(filters=f, kernel_size=(k, k), strides=(s, s), padding=pad_type, kernel_initializer=keras.initializers.glorot_uniform(seed=0))(X)\n",
        "\n",
        "In which f,k and s denote the size of filter,kernel and stride. Pad_type denoted the padding type which can be either \"same\" or \"valid\". "
      ]
    },
    {
      "cell_type": "markdown",
      "metadata": {
        "id": "7eA51suF12fn",
        "colab_type": "text"
      },
      "source": [
        "##Implementing the Identity Block \n",
        "\n",
        "We discussed the identity block in the homework description. Here we provide the details of the components that you should use to implement it. \n",
        "\n",
        "The following represents the components: \n",
        "\n",
        "First component of main path: \n",
        "- The first CONV2D has $F_1$ filters of shape (1,1) and a stride of (1,1). Its padding is \"valid\". Use 0 as the seed for the random initialization. \n",
        "- The first BatchNorm is normalizing the channels axis. No particular argument needs to be passed.\n",
        "- Then apply the ReLU activation function. This has no hyperparameters. \n",
        "\n",
        "Second component of main path:\n",
        "- The second CONV2D has $F_2$ filters of shape $(f,f)$ and a stride of (1,1). Its padding is \"same\". Use 0 as the seed for the random initialization. \n",
        "- The second BatchNorm is normalizing the channels axis. No particular argument needs to be passed.\n",
        "- Then apply the ReLU activation function. This has no hyperparameters\n",
        "\n",
        "Third component of main path:\n",
        "- The third CONV2D has $F_3$ filters of shape (1,1) and a stride of (1,1). Its padding is \"valid\". Use 0 as the seed for the random initialization. \n",
        "- The third BatchNorm is normalizing the channels axis. No particular argument needs to be passed. \n",
        "- Then apply the ReLU activation function. This has no hyperparameters\n",
        "\n",
        "Final step: \n",
        "- The shortcut and the input are added together.\n",
        "- Then apply the ReLU activation function. This has no hyperparameters\n",
        "\n",
        "Useful links:\n",
        "\n",
        "- [Conv](https://keras.io/layers/convolutional/#conv2d)\n",
        "- [BatchNorm](https://keras.io/layers/normalization/#batchnormalization)\n",
        "- For the activation, use:  `Activation('relu')(X)`\n",
        "- [Addition](https://keras.io/layers/merge/#add)\n",
        "\n"
      ]
    },
    {
      "cell_type": "code",
      "metadata": {
        "id": "kJc-hKMN3k4P",
        "colab_type": "code",
        "colab": {}
      },
      "source": [
        "def identity_block(X, f, filters):\n",
        "    \"\"\"\n",
        "    Implementation of the identity block as defined in Figure 4 of homework\n",
        "\n",
        "    Arguments:\n",
        "    X -- input tensor of shape (m, n_H_prev, n_W_prev, n_C_prev)\n",
        "    f -- integer, specifying the shape of the middle CONV's window for the main path\n",
        "    filters -- python list of integers, defining the number of filters in the CONV layers of the main path (e.g. [2,4,16])\n",
        "    block -- string/character, used to name the layers, depending on their position in the network\n",
        "\n",
        "    Returns:\n",
        "    X -- output of the identity block, tensor of shape (n_H, n_W, n_C)\n",
        "    \"\"\"\n",
        "\n",
        "    # Retrieve Filters\n",
        "    num_filters_1 = filters[0]\n",
        "    num_filters_2 = filters[1]\n",
        "    num_filters_3 = filters[2]\n",
        "   \n",
        "\n",
        "    # Save the input value. You'll need this later to add back to the main path. \n",
        "    input_X = X\n",
        "\n",
        "    # First component of main path\n",
        "    #The first CONV2D has  𝐹1  filters of shape (1,1) and a stride of (1,1). Its padding is \"valid\". Use 0 as the seed for the random initialization.\n",
        "    #The first BatchNorm is normalizing the channels axis. No particular argument needs to be passed.\n",
        "    #Then apply the ReLU activation function. This has no hyperparameters.\n",
        "    X = Conv2D(filters=num_filters_1, kernel_size=(1, 1), strides=(1, 1), padding=\"valid\", kernel_initializer=keras.initializers.glorot_uniform(seed=0))(X)\n",
        "    X = BatchNormalization()(X)\n",
        "    X = Activation('relu')(X)\n",
        "\n",
        "    # Second component of main path (≈3 lines)\n",
        "    #The second CONV2D has  𝐹2  filters of shape  (𝑓,𝑓)  and a stride of (1,1). Its padding is \"same\". Use 0 as the seed for the random initialization.\n",
        "    #The second BatchNorm is normalizing the channels axis. No particular argument needs to be passed.\n",
        "    #Then apply the ReLU activation function. This has no hyperparameters\n",
        "    X = Conv2D(filters=num_filters_2, kernel_size=(f, f), strides=(1, 1), padding=\"same\", kernel_initializer=keras.initializers.glorot_uniform(seed=0))(X)\n",
        "    X = BatchNormalization()(X)\n",
        "    X = Activation('relu')(X)\n",
        "    \n",
        "    # Third component of main path (≈2 lines)\n",
        "    #The third CONV2D has  𝐹3  filters of shape (1,1) and a stride of (1,1). Its padding is \"valid\". Use 0 as the seed for the random initialization.\n",
        "    #The third BatchNorm is normalizing the channels axis. No particular argument needs to be passed.\n",
        "    X = Conv2D(filters=num_filters_3, kernel_size=(1, 1), strides=(1, 1), padding=\"valid\", kernel_initializer=keras.initializers.glorot_uniform(seed=0))(X)\n",
        "    X = BatchNormalization()(X)\n",
        "\n",
        "    # Final step: Add shortcut value to main path, and pass it through a RELU activation (≈2 lines)\n",
        "    final_X = Add()([X, input_X])\n",
        "    X = Activation('relu')(final_X)\n",
        "\n",
        "    return X"
      ],
      "execution_count": 0,
      "outputs": []
    },
    {
      "cell_type": "markdown",
      "metadata": {
        "id": "8jSnfAHX8cUH",
        "colab_type": "text"
      },
      "source": [
        "##Testing the Identity Block\n",
        "\n",
        "Simply run the code in the following block and report the result that is generated in your homework report. "
      ]
    },
    {
      "cell_type": "code",
      "metadata": {
        "id": "ikDdEFha3k4R",
        "colab_type": "code",
        "outputId": "b612d42a-3f96-4f96-e07a-b5b2cf43b960",
        "colab": {
          "base_uri": "https://localhost:8080/",
          "height": 343
        }
      },
      "source": [
        "tf.reset_default_graph()\n",
        "\n",
        "with tf.Session() as test:\n",
        "    np.random.seed(1)\n",
        "    A_prev = tf.placeholder(\"float\", [4, 4, 4, 8])\n",
        "    X = np.random.randn(4,4,4,8)\n",
        "    A = identity_block(A_prev, f=2, filters=[2, 4, 8])\n",
        "    test.run(tf.global_variables_initializer())\n",
        "    res = test.run([A], feed_dict={A_prev: X})\n",
        "    print('Result = {}'.format(res[0][1][1][0]))\n"
      ],
      "execution_count": 0,
      "outputs": [
        {
          "output_type": "stream",
          "text": [
            "WARNING:tensorflow:From /usr/local/lib/python3.6/dist-packages/keras/backend/tensorflow_backend.py:66: The name tf.get_default_graph is deprecated. Please use tf.compat.v1.get_default_graph instead.\n",
            "\n",
            "WARNING:tensorflow:From /usr/local/lib/python3.6/dist-packages/keras/backend/tensorflow_backend.py:4432: The name tf.random_uniform is deprecated. Please use tf.random.uniform instead.\n",
            "\n",
            "WARNING:tensorflow:From /usr/local/lib/python3.6/dist-packages/keras/backend/tensorflow_backend.py:190: The name tf.get_default_session is deprecated. Please use tf.compat.v1.get_default_session instead.\n",
            "\n",
            "WARNING:tensorflow:From /usr/local/lib/python3.6/dist-packages/keras/backend/tensorflow_backend.py:207: The name tf.global_variables is deprecated. Please use tf.compat.v1.global_variables instead.\n",
            "\n",
            "WARNING:tensorflow:From /usr/local/lib/python3.6/dist-packages/keras/backend/tensorflow_backend.py:216: The name tf.is_variable_initialized is deprecated. Please use tf.compat.v1.is_variable_initialized instead.\n",
            "\n",
            "WARNING:tensorflow:From /usr/local/lib/python3.6/dist-packages/keras/backend/tensorflow_backend.py:223: The name tf.variables_initializer is deprecated. Please use tf.compat.v1.variables_initializer instead.\n",
            "\n",
            "WARNING:tensorflow:From /usr/local/lib/python3.6/dist-packages/keras/backend/tensorflow_backend.py:2041: The name tf.nn.fused_batch_norm is deprecated. Please use tf.compat.v1.nn.fused_batch_norm instead.\n",
            "\n",
            "WARNING:tensorflow:From /usr/local/lib/python3.6/dist-packages/keras/backend/tensorflow_backend.py:148: The name tf.placeholder_with_default is deprecated. Please use tf.compat.v1.placeholder_with_default instead.\n",
            "\n",
            "Result = [0.         0.         1.2319232  0.         0.04842055 0.39851195\n",
            " 1.703964   0.32821387]\n"
          ],
          "name": "stdout"
        }
      ]
    },
    {
      "cell_type": "markdown",
      "metadata": {
        "id": "qQbD_ipW-06u",
        "colab_type": "text"
      },
      "source": [
        "##Implementing the Convolutional Block \n",
        "\n",
        "We discussed the convolutional block in the homework description. Here we provide the details of the components that you should use to implement it. \n",
        "\n",
        "The following represents the components: \n",
        "\n",
        "First component of main path:\n",
        "- The first CONV2D has $F_1$ filters of shape (1,1) and a stride of (s,s). Its padding is \"valid\". \n",
        "- The first BatchNorm is normalizing the channels axis. No particular argument needs to be passed.\n",
        "- Then apply the ReLU activation function. This has no hyperparameters. \n",
        "\n",
        "Second component of main path:\n",
        "- The second CONV2D has $F_2$ filters of (f,f) and a stride of (1,1). Its padding is \"same\".\n",
        "- The second BatchNorm is normalizing the channels axis. No particular argument needs to be passed.\n",
        "- Then apply the ReLU activation function. This has no hyperparameters. \n",
        "\n",
        "Third component of main path:\n",
        "- The third CONV2D has $F_3$ filters of (1,1) and a stride of (1,1). Its padding is \"valid\".\n",
        "- The third BatchNorm is normalizing the channels axis. No particular argument needs to be passed. Note that there is no ReLU activation function in this component. \n",
        "\n",
        "Shortcut path:\n",
        "- The CONV2D has $F_3$ filters of shape (1,1) and a stride of (s,s). Its padding is \"valid\".\n",
        "- The BatchNorm is normalizing the channels axis. BatchNorm is normalizing the channels axis. No particular argument needs to be passed\n",
        "\n",
        "Final step: \n",
        "- The shortcut and the main path values are added together.\n",
        "- Then apply the ReLU activation function. This has no name and no hyperparameters. \n",
        "\n",
        "Useful links:\n",
        "\n",
        "- [Conv](https://keras.io/layers/convolutional/#conv2d)\n",
        "- [BatchNorm](https://keras.io/layers/normalization/#batchnormalization)\n",
        "- For the activation, use:  `Activation('relu')(X)`\n",
        "- [Addition](https://keras.io/layers/merge/#add)"
      ]
    },
    {
      "cell_type": "code",
      "metadata": {
        "id": "WTTaFuRa3k4V",
        "colab_type": "code",
        "colab": {}
      },
      "source": [
        "def convolutional_block(X, f, filters,stride=2):\n",
        "    \"\"\"\n",
        "    Implementation of the convolutional block as defined in Figure 5 of homework\n",
        "\n",
        "    Arguments:\n",
        "    X -- input tensor of shape (m, n_H_prev, n_W_prev, n_C_prev)\n",
        "    f -- integer, specifying the shape of the middle CONV's window for the main path\n",
        "    filters -- python list of integers, defining the number of filters in the CONV layers of the main path (e.g. [2,4,16])\n",
        "    stride -- Integer, specifying the stride to be used\n",
        "\n",
        "    Returns:\n",
        "    X -- output of the convolutional block, tensor of shape (n_H, n_W, n_C)\n",
        "    \"\"\"\n",
        "\n",
        "    # Retrieve Filters\n",
        "    num_filters_1 = filters[0]\n",
        "    num_filters_2 = filters[1]\n",
        "    num_filters_3 = filters[2]\n",
        "\n",
        "    # Save the input value\n",
        "    input_X = X\n",
        "\n",
        "    # First component of main path \n",
        "    #The first CONV2D has  𝐹1  filters of shape (1,1) and a stride of (s,s). Its padding is \"valid\".\n",
        "    #The first BatchNorm is normalizing the channels axis. No particular argument needs to be passed.\n",
        "    #Then apply the ReLU activation function. This has no hyperparameters.\n",
        "    X = Conv2D(filters=num_filters_1, kernel_size=(1, 1), strides=(stride, stride), padding=\"valid\", kernel_initializer=keras.initializers.glorot_uniform(seed=0))(X)\n",
        "    X = BatchNormalization()(X)\n",
        "    X = Activation('relu')(X)\n",
        "\n",
        "    # Second component of main path (≈3 lines)\n",
        "    #The second CONV2D has  𝐹2  filters of (f,f) and a stride of (1,1). Its padding is \"same\".\n",
        "    #The second BatchNorm is normalizing the channels axis. No particular argument needs to be passed.\n",
        "    #Then apply the ReLU activation function. This has no hyperparameters.\n",
        "    X = Conv2D(filters=num_filters_2, kernel_size=(f, f), strides=(1, 1), padding=\"same\", kernel_initializer=keras.initializers.glorot_uniform(seed=0))(X)\n",
        "    X = BatchNormalization()(X)\n",
        "    X = Activation('relu')(X)\n",
        "\n",
        "    # Third component of main path (≈2 lines)\n",
        "    #The third CONV2D has  𝐹3  filters of (1,1) and a stride of (1,1). Its padding is \"valid\".\n",
        "    #The third BatchNorm is normalizing the channels axis. No particular argument needs to be passed. Note that there is no ReLU activation function in this component.\n",
        "    X = Conv2D(filters=num_filters_3, kernel_size=(1, 1), strides=(1, 1), padding=\"valid\", kernel_initializer=keras.initializers.glorot_uniform(seed=0))(X)\n",
        "    X = BatchNormalization()(X)\n",
        "    \n",
        "    ##### SHORTCUT PATH #### (≈2 lines)\n",
        "    #The CONV2D has  𝐹3  filters of shape (1,1) and a stride of (s,s). Its padding is \"valid\".\n",
        "    #The BatchNorm is normalizing the channels axis. BatchNorm is normalizing the channels axis. No particular argument needs to be passed\n",
        "    shortcut_X = Conv2D(filters=num_filters_3, kernel_size=(1, 1), strides=(stride, stride), padding=\"valid\", kernel_initializer=keras.initializers.glorot_uniform(seed=0))(input_X)\n",
        "    shortcut_X = BatchNormalization()(shortcut_X)\n",
        "\n",
        "    # Final step: Add shortcut value to main path, and pass it through a RELU activation (≈2 lines)\n",
        "    final_X = Add()([X, shortcut_X])\n",
        "    X = Activation('relu')(final_X)\n",
        "\n",
        "    return X\n"
      ],
      "execution_count": 0,
      "outputs": []
    },
    {
      "cell_type": "markdown",
      "metadata": {
        "id": "oGITZoKUDBTs",
        "colab_type": "text"
      },
      "source": [
        "##Testing the Convolutional Block\n",
        "\n",
        "Simply run the code in the following block and report the result that is generated in your homework report. "
      ]
    },
    {
      "cell_type": "code",
      "metadata": {
        "id": "hQQAH8UM3k4X",
        "colab_type": "code",
        "outputId": "ce7d0a61-fe6e-4c52-afd1-963dd1edcafb",
        "colab": {
          "base_uri": "https://localhost:8080/",
          "height": 51
        }
      },
      "source": [
        "tf.reset_default_graph()\n",
        "\n",
        "with tf.Session() as test:\n",
        "    np.random.seed(1)\n",
        "    A_prev = tf.placeholder(\"float\", [4, 4, 4, 8])\n",
        "    X = np.random.randn(4,4,4,8)\n",
        "    A = convolutional_block(A_prev, f=2, filters=[2, 4, 8])\n",
        "    test.run(tf.global_variables_initializer())\n",
        "    res = test.run([A], feed_dict={A_prev: X})\n",
        "    print('Result = {}'.format(res[0][1][1][0]))"
      ],
      "execution_count": 0,
      "outputs": [
        {
          "output_type": "stream",
          "text": [
            "Result = [0.        1.3407363 1.4184607 0.        0.        2.2878466 0.8547394\n",
            " 0.5266884]\n"
          ],
          "name": "stdout"
        }
      ]
    },
    {
      "cell_type": "markdown",
      "metadata": {
        "id": "FjLuQmAOFAgm",
        "colab_type": "text"
      },
      "source": [
        "##Implementing ResNet \n",
        "\n",
        "We discussed the ResNet architecture in the homework description ( see Figure 6 ). Here we provide further details you should use to implement it.\n",
        "The following represents ResNet components: \n",
        "\n",
        "- Zero-padding pads the input with a pad of (3,3)\n",
        "- Stage 1:\n",
        "    - The 2D Convolution has 64 filters of shape (7,7) and uses a stride of (2,2).\n",
        "    - BatchNorm is applied to the channels axis of the input.\n",
        "    - MaxPooling uses a (3,3) window and a (2,2) stride.\n",
        "- Stage 2:\n",
        "    - The convolutional block uses three set of filters of size [64,64,256], \"f\" is 3, \"s\" is 1.\n",
        "    - The 2 identity blocks use three set of filters of size [64,64,256], \"f\" is 3.\n",
        "- Stage 3:\n",
        "    - The convolutional block uses three set of filters of size [128,128,512], \"f\" is 3, \"s\" is 2.\n",
        "    - The 3 identity blocks use three set of filters of size [128,128,512], \"f\" is 3.\n",
        "- Stage 4:\n",
        "    - The convolutional block uses three set of filters of size [256, 256, 1024], \"f\" is 3, \"s\" is 2.\n",
        "    - The 5 identity blocks use three set of filters of size [256, 256, 1024], \"f\" is 3.\n",
        "- Stage 5:\n",
        "    - The convolutional block uses three set of filters of size [512, 512, 2048], \"f\" is 3, \"s\" is 2.\n",
        "    - The 2 identity blocks use three set of filters of size [256, 256, 2048], \"f\" is 3.\n",
        "- The 2D Average Pooling uses a window of shape (2,2).\n",
        "- The flatten doesn't have any hyperparameters.\n",
        "- The Fully Connected (Dense) layer reduces its input to the number of classes using a softmax activation.\n",
        "\n",
        "Useful links:\n",
        "\n",
        "- [Conv](https://keras.io/layers/convolutional/#conv2d)\n",
        "- [BatchNorm](https://keras.io/layers/normalization/#batchnormalization)\n",
        "- For the activation, use:  `Activation('relu')(X)`\n",
        "- [Addition](https://keras.io/layers/merge/#add)\n",
        "- [Average pooling](https://keras.io/layers/pooling/#averagepooling2d)\n",
        "- [Max pooling](https://keras.io/layers/pooling/#maxpooling2d)\n",
        "- [Zero padding](https://keras.io/layers/convolutional/#zeropadding2d)\n",
        "\n"
      ]
    },
    {
      "cell_type": "code",
      "metadata": {
        "id": "ZHfdszLr3k4b",
        "colab_type": "code",
        "outputId": "1f5b96ab-19e0-4162-ad94-be6e9bcdc543",
        "colab": {
          "base_uri": "https://localhost:8080/",
          "height": 105
        }
      },
      "source": [
        "def ResNet(input_shape=(32, 32, 3), classes=10):\n",
        "    \"\"\"\n",
        "    Implementation of the popular ResNet50 the following architecture:\n",
        "    CONV2D -> BATCHNORM -> RELU -> MAXPOOL -> CONVBLOCK -> IDBLOCK*2 -> CONVBLOCK -> IDBLOCK*3\n",
        "    -> CONVBLOCK -> IDBLOCK*5 -> CONVBLOCK -> IDBLOCK*2 -> AVGPOOL -> TOPLAYER\n",
        "\n",
        "    Arguments:\n",
        "    input_shape -- shape of the images of the dataset\n",
        "    classes -- integer, number of classes\n",
        "\n",
        "    Returns:\n",
        "    model -- a Model() instance in Keras\n",
        "    \"\"\"\n",
        "\n",
        "    # Define the input as a tensor with shape input_shape\n",
        "    X_input = Input(input_shape)\n",
        "    X = X_input\n",
        "\n",
        "    # Zero-Padding\n",
        "    X = ZeroPadding2D(padding=(3, 3))(X)\n",
        "\n",
        "    # Stage 1\n",
        "    #The 2D Convolution has 64 filters of shape (7,7) and uses a stride of (2,2).\n",
        "    #BatchNorm is applied to the channels axis of the input.\n",
        "    #MaxPooling uses a (3,3) window and a (2,2) stride.\n",
        "    X = Conv2D(filters=64, kernel_size=(7, 7), strides=(2, 2))(X)\n",
        "    X = BatchNormalization()(X)\n",
        "    X = Activation('relu')(X)\n",
        "    X = MaxPooling2D(pool_size=(3, 3), strides=(2, 2))(X)\n",
        "   \n",
        "    # Stage 2\n",
        "    #The convolutional block uses three set of filters of size [64,64,256], \"f\" is 3, \"s\" is 1.\n",
        "    #The 2 identity blocks use three set of filters of size [64,64,256], \"f\" is 3.\n",
        "    X = convolutional_block(X, f=3, filters=[64, 64, 256], stride=1)\n",
        "    for i in range(2):\n",
        "      X = identity_block(X, f=3, filters=[64, 64, 256])\n",
        "\n",
        "    # Stage 3 (≈4 lines)\n",
        "    #The convolutional block uses three set of filters of size [128,128,512], \"f\" is 3, \"s\" is 2.\n",
        "    #The 3 identity blocks use three set of filters of size [128,128,512], \"f\" is 3.\n",
        "    X = convolutional_block(X, f=3, filters=[128, 128, 512], stride=2)\n",
        "    for i in range(3):\n",
        "      X = identity_block(X, f=3, filters=[128, 128, 512])\n",
        "\n",
        "    # Stage 4 (≈6 lines)\n",
        "    #The convolutional block uses three set of filters of size [256, 256, 1024], \"f\" is 3, \"s\" is 2.\n",
        "    #The 5 identity blocks use three set of filters of size [256, 256, 1024], \"f\" is 3.\n",
        "    X = convolutional_block(X, f=3, filters=[256, 256, 1024], stride=2)\n",
        "    for i in range(5):\n",
        "      X = identity_block(X, f=3, filters=[256, 256, 1024])\n",
        "    \n",
        "    # Stage 5 (≈3 lines)\n",
        "    #The convolutional block uses three set of filters of size [512, 512, 2048], \"f\" is 3, \"s\" is 2.\n",
        "    #The 2 identity blocks use three set of filters of size [256, 256, 2048], \"f\" is 3.\n",
        "    X = convolutional_block(X, f=3, filters=[512, 512, 2048], stride=2)\n",
        "    for i in range(2):\n",
        "      X = identity_block(X, f=3, filters=[256, 256, 2048])\n",
        "\n",
        "    # AVGPOOL (≈1 line)\n",
        "    X = AveragePooling2D(pool_size=(2, 2), padding='same')(X)\n",
        "    X = Flatten()(X)\n",
        "\n",
        "    # output layer\n",
        "    X = Dense(units=classes, activation='softmax')(X)\n",
        "\n",
        "    # Create model\n",
        "    model = Model(inputs=X_input, outputs=X, name='ResNet')\n",
        "\n",
        "    return model\n",
        "\n",
        "model = ResNet(input_shape=(32, 32, 3), classes=10)"
      ],
      "execution_count": 0,
      "outputs": [
        {
          "output_type": "stream",
          "text": [
            "WARNING:tensorflow:From /usr/local/lib/python3.6/dist-packages/keras/backend/tensorflow_backend.py:4267: The name tf.nn.max_pool is deprecated. Please use tf.nn.max_pool2d instead.\n",
            "\n",
            "WARNING:tensorflow:From /usr/local/lib/python3.6/dist-packages/keras/backend/tensorflow_backend.py:4271: The name tf.nn.avg_pool is deprecated. Please use tf.nn.avg_pool2d instead.\n",
            "\n"
          ],
          "name": "stdout"
        }
      ]
    },
    {
      "cell_type": "markdown",
      "metadata": {
        "id": "Hi4WfiGnI6e1",
        "colab_type": "text"
      },
      "source": [
        "##CIFAR10 Dataset\n",
        "\n",
        "Simply run the following code block to download and preprocess the CIFAR10 dataset. We also use online data-augmentation to improve the results. "
      ]
    },
    {
      "cell_type": "code",
      "metadata": {
        "id": "dgUU9chm3k4f",
        "colab_type": "code",
        "outputId": "5698c7fb-58fd-493b-f24f-2908d6f95ef8",
        "colab": {
          "base_uri": "https://localhost:8080/",
          "height": 102
        }
      },
      "source": [
        "(x_train, y_train), (x_test, y_test) = cifar10.load_data()\n",
        "print('x_train shape:', x_train.shape)\n",
        "print(x_train.shape[0], 'train samples')\n",
        "print(x_test.shape[0], 'test samples')\n",
        "num_classes = 10\n",
        "# Convert class vectors to binary class matrices.\n",
        "y_train = keras.utils.to_categorical(y_train, num_classes)\n",
        "y_test = keras.utils.to_categorical(y_test, num_classes)\n",
        "x_train = x_train.astype('float32')\n",
        "x_test = x_test.astype('float32')\n",
        "x_train /= 255\n",
        "x_test /= 255\n",
        "\n",
        "datagen = ImageDataGenerator(\n",
        "        featurewise_center=False,  # set input mean to 0 over the dataset\n",
        "        samplewise_center=False,  # set each sample mean to 0\n",
        "        featurewise_std_normalization=False,  # divide inputs by std of the dataset\n",
        "        samplewise_std_normalization=False,  # divide each input by its std\n",
        "        zca_whitening=False,  # apply ZCA whitening\n",
        "        zca_epsilon=1e-06,  # epsilon for ZCA whitening\n",
        "        rotation_range=0,  # randomly rotate images in the range (degrees, 0 to 180)\n",
        "        # randomly shift images horizontally (fraction of total width)\n",
        "        width_shift_range=0.1,\n",
        "        # randomly shift images vertically (fraction of total height)\n",
        "        height_shift_range=0.1,\n",
        "        shear_range=0.,  # set range for random shear\n",
        "        zoom_range=0.,  # set range for random zoom\n",
        "        channel_shift_range=0.,  # set range for random channel shifts\n",
        "        # set mode for filling points outside the input boundaries\n",
        "        fill_mode='nearest',\n",
        "        cval=0.,  # value used for fill_mode = \"constant\"\n",
        "        horizontal_flip=True,  # randomly flip images\n",
        "        vertical_flip=True,  # randomly flip images\n",
        "        # set rescaling factor (applied before any other transformation)\n",
        "        rescale=None,\n",
        "        # set function that will be applied on each input\n",
        "        preprocessing_function=None,\n",
        "        # image data format, either \"channels_first\" or \"channels_last\"\n",
        "        data_format=None,\n",
        "        # fraction of images reserved for validation (strictly between 0 and 1)\n",
        "        validation_split=0.0)\n",
        "\n",
        "datagen.fit(x_train)\n"
      ],
      "execution_count": 0,
      "outputs": [
        {
          "output_type": "stream",
          "text": [
            "Downloading data from https://www.cs.toronto.edu/~kriz/cifar-10-python.tar.gz\n",
            "170500096/170498071 [==============================] - 6s 0us/step\n",
            "x_train shape: (50000, 32, 32, 3)\n",
            "50000 train samples\n",
            "10000 test samples\n"
          ],
          "name": "stdout"
        }
      ]
    },
    {
      "cell_type": "markdown",
      "metadata": {
        "id": "0N36L7P9J1UA",
        "colab_type": "text"
      },
      "source": [
        "##Compile the Model\n",
        "\n",
        "The following block sets the required hyper-parameters, complies the model starts the process of training and at the end saves the trained model. \n",
        "\n",
        "You can use your own hyper-parameters, but these have been tested to work properly.\n",
        "\n",
        "Note that we require you to report the accuracy for models that have been trained for 50 epochs. "
      ]
    },
    {
      "cell_type": "code",
      "metadata": {
        "id": "yf9YlI_LWjfW",
        "colab_type": "code",
        "outputId": "29d03321-6664-4509-ef8f-e71d47cacb33",
        "colab": {
          "base_uri": "https://localhost:8080/",
          "height": 1000
        }
      },
      "source": [
        "batch_size = 2048\n",
        "epochs = 50\n",
        "data_augmentation = True\n",
        "learning_rate=0.001\n",
        "\n",
        "opt = keras.optimizers.adam(lr=learning_rate, decay=1e-6)\n",
        "model.compile(loss='categorical_crossentropy',optimizer=opt,metrics=['accuracy'])\n",
        "t1=time()\n",
        "history =model.fit_generator(datagen.flow(x_train, y_train,\n",
        "                    batch_size=batch_size),\n",
        "                    epochs=epochs,\n",
        "                    validation_data=(x_test, y_test),\n",
        "                    workers=4)\n",
        "print('Training time is {} s'.format(time()-t1))\n",
        "if not os.path.isdir(save_dir):\n",
        "    os.makedirs(save_dir)\n",
        "\n",
        "model_name='resnet'\n",
        "model_path = os.path.join(save_dir, model_name)\n",
        "model.save(model_path)\n",
        "print('Saved trained model at %s ' % model_path)"
      ],
      "execution_count": 0,
      "outputs": [
        {
          "output_type": "stream",
          "text": [
            "WARNING:tensorflow:From /usr/local/lib/python3.6/dist-packages/keras/optimizers.py:793: The name tf.train.Optimizer is deprecated. Please use tf.compat.v1.train.Optimizer instead.\n",
            "\n",
            "WARNING:tensorflow:From /usr/local/lib/python3.6/dist-packages/keras/backend/tensorflow_backend.py:3576: The name tf.log is deprecated. Please use tf.math.log instead.\n",
            "\n",
            "WARNING:tensorflow:From /usr/local/lib/python3.6/dist-packages/tensorflow_core/python/ops/math_grad.py:1424: where (from tensorflow.python.ops.array_ops) is deprecated and will be removed in a future version.\n",
            "Instructions for updating:\n",
            "Use tf.where in 2.0, which has the same broadcast rule as np.where\n",
            "WARNING:tensorflow:From /usr/local/lib/python3.6/dist-packages/keras/backend/tensorflow_backend.py:1033: The name tf.assign_add is deprecated. Please use tf.compat.v1.assign_add instead.\n",
            "\n",
            "WARNING:tensorflow:From /usr/local/lib/python3.6/dist-packages/keras/backend/tensorflow_backend.py:1020: The name tf.assign is deprecated. Please use tf.compat.v1.assign instead.\n",
            "\n",
            "Epoch 1/50\n",
            "WARNING:tensorflow:From /usr/local/lib/python3.6/dist-packages/keras/backend/tensorflow_backend.py:197: The name tf.ConfigProto is deprecated. Please use tf.compat.v1.ConfigProto instead.\n",
            "\n",
            "25/25 [==============================] - 58s 2s/step - loss: 2.3538 - acc: 0.2254 - val_loss: 5.9456 - val_acc: 0.1379\n",
            "Epoch 2/50\n",
            "25/25 [==============================] - 21s 857ms/step - loss: 1.7408 - acc: 0.3591 - val_loss: 3.3002 - val_acc: 0.2236\n",
            "Epoch 3/50\n",
            "25/25 [==============================] - 26s 1s/step - loss: 1.6144 - acc: 0.4099 - val_loss: 9.0135 - val_acc: 0.1373\n",
            "Epoch 4/50\n",
            "25/25 [==============================] - 26s 1s/step - loss: 1.5777 - acc: 0.4293 - val_loss: 6.7139 - val_acc: 0.1653\n",
            "Epoch 5/50\n",
            "25/25 [==============================] - 25s 1s/step - loss: 1.4812 - acc: 0.4606 - val_loss: 1.6879 - val_acc: 0.3970\n",
            "Epoch 6/50\n",
            "25/25 [==============================] - 25s 1s/step - loss: 1.3878 - acc: 0.4976 - val_loss: 1.8309 - val_acc: 0.3624\n",
            "Epoch 7/50\n",
            "25/25 [==============================] - 26s 1s/step - loss: 1.4906 - acc: 0.4679 - val_loss: 14.5063 - val_acc: 0.1000\n",
            "Epoch 8/50\n",
            "25/25 [==============================] - 25s 1s/step - loss: 1.5417 - acc: 0.4580 - val_loss: 14.5021 - val_acc: 0.1000\n",
            "Epoch 9/50\n",
            "25/25 [==============================] - 26s 1s/step - loss: 1.3818 - acc: 0.5019 - val_loss: 11.2676 - val_acc: 0.1156\n",
            "Epoch 10/50\n",
            "25/25 [==============================] - 26s 1s/step - loss: 1.3089 - acc: 0.5310 - val_loss: 4.8400 - val_acc: 0.1965\n",
            "Epoch 11/50\n",
            "25/25 [==============================] - 25s 995ms/step - loss: 1.2546 - acc: 0.5470 - val_loss: 1.7921 - val_acc: 0.3627\n",
            "Epoch 12/50\n",
            "25/25 [==============================] - 25s 1s/step - loss: 1.2048 - acc: 0.5687 - val_loss: 1.4490 - val_acc: 0.4716\n",
            "Epoch 13/50\n",
            "25/25 [==============================] - 25s 980ms/step - loss: 1.1542 - acc: 0.5852 - val_loss: 1.5403 - val_acc: 0.4577\n",
            "Epoch 14/50\n",
            "25/25 [==============================] - 25s 997ms/step - loss: 1.1191 - acc: 0.5998 - val_loss: 1.4664 - val_acc: 0.4871\n",
            "Epoch 15/50\n",
            "25/25 [==============================] - 28s 1s/step - loss: 1.1317 - acc: 0.5942 - val_loss: 2.3358 - val_acc: 0.2801\n",
            "Epoch 16/50\n",
            "25/25 [==============================] - 23s 921ms/step - loss: 1.1088 - acc: 0.6009 - val_loss: 1.5502 - val_acc: 0.5015\n",
            "Epoch 17/50\n",
            "25/25 [==============================] - 25s 985ms/step - loss: 1.0656 - acc: 0.6151 - val_loss: 4.3092 - val_acc: 0.2902\n",
            "Epoch 18/50\n",
            "25/25 [==============================] - 25s 999ms/step - loss: 1.0784 - acc: 0.6149 - val_loss: 2.2854 - val_acc: 0.2784\n",
            "Epoch 19/50\n",
            "25/25 [==============================] - 25s 1s/step - loss: 1.0412 - acc: 0.6275 - val_loss: 1.7199 - val_acc: 0.4337\n",
            "Epoch 20/50\n",
            "25/25 [==============================] - 25s 1s/step - loss: 1.1021 - acc: 0.6087 - val_loss: 3.4275 - val_acc: 0.1558\n",
            "Epoch 21/50\n",
            "25/25 [==============================] - 25s 988ms/step - loss: 1.1230 - acc: 0.6018 - val_loss: 5.3283 - val_acc: 0.2726\n",
            "Epoch 22/50\n",
            "25/25 [==============================] - 25s 1s/step - loss: 1.0746 - acc: 0.6207 - val_loss: 1.3564 - val_acc: 0.5385\n",
            "Epoch 23/50\n",
            "25/25 [==============================] - 25s 992ms/step - loss: 0.9846 - acc: 0.6519 - val_loss: 1.2532 - val_acc: 0.5720\n",
            "Epoch 24/50\n",
            "25/25 [==============================] - 25s 1s/step - loss: 0.9833 - acc: 0.6592 - val_loss: 2.9010 - val_acc: 0.3780\n",
            "Epoch 25/50\n",
            "25/25 [==============================] - 25s 990ms/step - loss: 1.0361 - acc: 0.6320 - val_loss: 6.3036 - val_acc: 0.2483\n",
            "Epoch 26/50\n",
            "25/25 [==============================] - 25s 1s/step - loss: 1.3640 - acc: 0.5577 - val_loss: 14.5063 - val_acc: 0.1000\n",
            "Epoch 27/50\n",
            "25/25 [==============================] - 25s 996ms/step - loss: 1.3378 - acc: 0.5472 - val_loss: 14.2289 - val_acc: 0.1030\n",
            "Epoch 28/50\n",
            "25/25 [==============================] - 25s 1s/step - loss: 1.1404 - acc: 0.5992 - val_loss: 5.9457 - val_acc: 0.2413\n",
            "Epoch 29/50\n",
            "25/25 [==============================] - 25s 988ms/step - loss: 1.1641 - acc: 0.5917 - val_loss: 3.3880 - val_acc: 0.2592\n",
            "Epoch 30/50\n",
            "25/25 [==============================] - 25s 990ms/step - loss: 1.0422 - acc: 0.6280 - val_loss: 4.0042 - val_acc: 0.2214\n",
            "Epoch 31/50\n",
            "25/25 [==============================] - 25s 1s/step - loss: 0.9707 - acc: 0.6549 - val_loss: 1.7530 - val_acc: 0.4648\n",
            "Epoch 32/50\n",
            "25/25 [==============================] - 24s 974ms/step - loss: 0.9240 - acc: 0.6715 - val_loss: 1.3386 - val_acc: 0.5488\n",
            "Epoch 33/50\n",
            "25/25 [==============================] - 25s 997ms/step - loss: 0.8951 - acc: 0.6783 - val_loss: 1.2313 - val_acc: 0.5889\n",
            "Epoch 34/50\n",
            "25/25 [==============================] - 24s 966ms/step - loss: 0.8635 - acc: 0.6915 - val_loss: 1.2832 - val_acc: 0.5813\n",
            "Epoch 35/50\n",
            "25/25 [==============================] - 25s 988ms/step - loss: 0.8546 - acc: 0.6957 - val_loss: 1.0976 - val_acc: 0.6227\n",
            "Epoch 36/50\n",
            "25/25 [==============================] - 25s 991ms/step - loss: 0.8550 - acc: 0.6929 - val_loss: 1.1421 - val_acc: 0.5976\n",
            "Epoch 37/50\n",
            "25/25 [==============================] - 25s 1s/step - loss: 0.8447 - acc: 0.6995 - val_loss: 1.0097 - val_acc: 0.6472\n",
            "Epoch 38/50\n",
            "25/25 [==============================] - 25s 1s/step - loss: 0.8117 - acc: 0.7107 - val_loss: 0.9111 - val_acc: 0.6830\n",
            "Epoch 39/50\n",
            "25/25 [==============================] - 25s 986ms/step - loss: 0.7942 - acc: 0.7173 - val_loss: 1.0793 - val_acc: 0.6240\n",
            "Epoch 40/50\n",
            "25/25 [==============================] - 24s 970ms/step - loss: 0.7641 - acc: 0.7257 - val_loss: 1.0047 - val_acc: 0.6614\n",
            "Epoch 41/50\n",
            "25/25 [==============================] - 25s 1s/step - loss: 0.7642 - acc: 0.7276 - val_loss: 0.9141 - val_acc: 0.6786\n",
            "Epoch 42/50\n",
            "25/25 [==============================] - 25s 995ms/step - loss: 0.7464 - acc: 0.7327 - val_loss: 0.9365 - val_acc: 0.6715\n",
            "Epoch 43/50\n",
            "25/25 [==============================] - 25s 987ms/step - loss: 0.7340 - acc: 0.7378 - val_loss: 1.1674 - val_acc: 0.6137\n",
            "Epoch 44/50\n",
            "25/25 [==============================] - 25s 1s/step - loss: 0.7682 - acc: 0.7264 - val_loss: 0.9274 - val_acc: 0.6785\n",
            "Epoch 45/50\n",
            "25/25 [==============================] - 25s 988ms/step - loss: 0.7412 - acc: 0.7366 - val_loss: 0.9091 - val_acc: 0.6906\n",
            "Epoch 46/50\n",
            "25/25 [==============================] - 25s 984ms/step - loss: 0.7196 - acc: 0.7424 - val_loss: 0.9100 - val_acc: 0.6852\n",
            "Epoch 47/50\n",
            "25/25 [==============================] - 25s 993ms/step - loss: 0.7013 - acc: 0.7511 - val_loss: 1.0096 - val_acc: 0.6712\n",
            "Epoch 48/50\n",
            "25/25 [==============================] - 24s 978ms/step - loss: 0.6910 - acc: 0.7535 - val_loss: 0.9160 - val_acc: 0.6850\n",
            "Epoch 49/50\n",
            "25/25 [==============================] - 25s 981ms/step - loss: 0.6792 - acc: 0.7573 - val_loss: 0.7949 - val_acc: 0.7221\n",
            "Epoch 50/50\n",
            "25/25 [==============================] - 25s 995ms/step - loss: 0.6633 - acc: 0.7634 - val_loss: 0.9760 - val_acc: 0.6736\n",
            "Training time is 1286.0061371326447 s\n",
            "Saved trained model at /model/resnet/resnet \n"
          ],
          "name": "stdout"
        }
      ]
    },
    {
      "cell_type": "markdown",
      "metadata": {
        "id": "CuZ9pWM3KmsW",
        "colab_type": "text"
      },
      "source": [
        "##Evaluate the model\n",
        "\n",
        "Simply run the following block of code to plot accuracies on training and validation set during different training epochs and eventually get the **accuracy** of the trained model on the **testing set** of CIFAR10 dataset"
      ]
    },
    {
      "cell_type": "code",
      "metadata": {
        "id": "LgWEKQfRdIBM",
        "colab_type": "code",
        "outputId": "8783cd3e-4b65-42c0-982a-a5b75a86c048",
        "colab": {
          "base_uri": "https://localhost:8080/",
          "height": 624
        }
      },
      "source": [
        "plot_learningCurve(history,epochs)\n",
        "\n",
        "# Evaluate trained model.\n",
        "scores = model.evaluate(x_test, y_test, verbose=1)\n",
        "print('Test loss:', scores[0])\n",
        "print('Test accuracy:', scores[1])\n"
      ],
      "execution_count": 0,
      "outputs": [
        {
          "output_type": "display_data",
          "data": {
            "image/png": "[encoded data removed]",
            "text/plain": [
              "<Figure size 432x288 with 1 Axes>"
            ]
          },
          "metadata": {
            "tags": []
          }
        },
        {
          "output_type": "display_data",
          "data": {
            "image/png": "[encoded data removed]",
            "text/plain": [
              "<Figure size 432x288 with 1 Axes>"
            ]
          },
          "metadata": {
            "tags": []
          }
        },
        {
          "output_type": "stream",
          "text": [
            "10000/10000 [==============================] - 4s 421us/step\n",
            "Test loss: 0.9760090353965759\n",
            "Test accuracy: 0.6736\n"
          ],
          "name": "stdout"
        }
      ]
    }
  ]
}